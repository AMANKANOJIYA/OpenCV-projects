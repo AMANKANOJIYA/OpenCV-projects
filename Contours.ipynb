{
 "cells": [
  {
   "cell_type": "markdown",
   "metadata": {},
   "source": [
    "## Contours\n",
    "\n"
   ]
  },
  {
   "cell_type": "code",
   "execution_count": 12,
   "metadata": {},
   "outputs": [
    {
     "name": "stdout",
     "output_type": "stream",
     "text": [
      "Number of contours found =  4\n"
     ]
    }
   ],
   "source": [
    "import cv2\n",
    "import numpy as np\n",
    "\n",
    "# Load our image\n",
    "image = cv2.imread('images/bunchofshapes.jpg')\n",
    "cv2.imshow('0 - Original Image', image)\n",
    "cv2.waitKey(0)\n",
    "\n",
    "# Create a black image with same dimensions as our loaded image\n",
    "blank_image = np.zeros((image.shape[0], image.shape[1], 3))\n",
    "\n",
    "# Create a copy of our original image\n",
    "orginal_image = image.copy()\n",
    "\n",
    "# Grayscale our image\n",
    "gray = cv2.cvtColor(image,cv2.COLOR_BGR2GRAY)\n",
    "\n",
    "# Find Canny edges\n",
    "edged = cv2.Canny(gray, 50, 200)\n",
    "cv2.imshow('1 - Canny Edges', edged)\n",
    "cv2.waitKey(0)\n",
    "\n",
    "\n",
    "\n",
    "# Find contours and print how many were found\n",
    "contours, _ = cv2.findContours(edged.copy(), cv2.RETR_EXTERNAL, cv2.CHAIN_APPROX_NONE)\n",
    "print (\"Number of contours found = \", len(contours))\n",
    "\n",
    "\n",
    "#Draw all contours\n",
    "cv2.drawContours(blank_image, contours, -1, (0,255,0), 3)\n",
    "cv2.imshow('2 - All Contours over blank image', blank_image)\n",
    "cv2.waitKey(0)\n",
    "\n",
    "# Draw all contours over blank image\n",
    "cv2.drawContours(image, contours, -1, (0,255,0), 3)\n",
    "cv2.imshow('3 - All Contours', image)\n",
    "cv2.waitKey(0)\n",
    "cv2.destroyAllWindows()"
   ]
  },
  {
   "cell_type": "code",
   "execution_count": 10,
   "metadata": {},
   "outputs": [],
   "source": [
    "cv2.destroyAllWindows()"
   ]
  },
  {
   "cell_type": "markdown",
   "metadata": {},
   "source": [
    "### Let's now sort by area"
   ]
  },
  {
   "cell_type": "code",
   "execution_count": 15,
   "metadata": {},
   "outputs": [
    {
     "name": "stdout",
     "output_type": "stream",
     "text": [
      "Contor Areas before sorting\n",
      "[20587.5, 22901.5, 66579.5, 90222.0]\n",
      "Contor Areas after sorting\n",
      "[20587.5, 22901.5, 66579.5, 90222.0]\n"
     ]
    }
   ],
   "source": [
    "import cv2\n",
    "import numpy as np\n",
    "\n",
    "# Function we'll use to display contour area\n",
    "\n",
    "def get_contour_areas(contours):\n",
    "    # returns the areas of all contours as list\n",
    "    all_areas = []\n",
    "    for cnt in contours:\n",
    "        area = cv2.contourArea(cnt)\n",
    "        all_areas.append(area)\n",
    "    return all_areas\n",
    "\n",
    "# Load our image\n",
    "image = cv2.imread('images/bunchofshapes.jpg')\n",
    "orginal_image = image\n",
    "\n",
    "# Let's print the areas of the contours before sorting\n",
    "print (\"Contor Areas before sorting\")\n",
    "print (get_contour_areas(contours))\n",
    "\n",
    "contours, _ = cv2.findContours(edged.copy(), cv2.RETR_EXTERNAL, cv2.CHAIN_APPROX_NONE)\n",
    "# Sort contours large to small\n",
    "sorted_contours = sorted(contours, key=cv2.contourArea)\n",
    "#sorted_contours = sorted(contours, key=cv2.contourArea, reverse=True)[:3]\n",
    "\n",
    "print (\"Contor Areas after sorting\")\n",
    "print (get_contour_areas(sorted_contours))\n",
    "\n",
    "# Iterate over our contours and draw one at a time\n",
    "for c in sorted_contours:\n",
    "    cv2.drawContours(orginal_image, [c], -1, (255,0,0), 3)\n",
    "    cv2.waitKey(0)\n",
    "    cv2.imshow('Contours by area', orginal_image)\n",
    "\n",
    "cv2.waitKey(0)\n",
    "cv2.destroyAllWindows()"
   ]
  },
  {
   "cell_type": "code",
   "execution_count": 20,
   "metadata": {},
   "outputs": [
    {
     "name": "stdout",
     "output_type": "stream",
     "text": [
      "{'m00': 20587.5, 'm10': 18250924.833333332, 'm01': 9099782.333333332, 'm20': 16214606883.25, 'm11': 8067011518.125, 'm02': 4057711167.4166665, 'm30': 14436508422455.451, 'm21': 7166954589089.566, 'm12': 3597188928206.5664, 'm03': 1824964836980.2002, 'mu20': 35067975.07837677, 'mu11': 7590.238600730896, 'mu02': 35559934.190416336, 'mu30': -11432.6015625, 'mu21': 353952.1429042816, 'mu12': 359855.0387878418, 'mu03': -6583.537353515625, 'nu20': 0.08273770399700484, 'nu11': 1.7908046107890125e-05, 'nu02': 0.0838984088081491, 'nu30': -1.8799055832427544e-07, 'nu21': 5.820167929485615e-06, 'nu12': 5.9172314619470645e-06, 'nu03': -1.0825557560719243e-07}\n",
      "{'m00': 22901.5, 'm10': 13585477.833333332, 'm01': 10867630.833333332, 'm20': 8111037193.583333, 'm11': 6445296013.625, 'm02': 5206156291.916666, 'm30': 4873083197261.351, 'm21': 3848538181355.683, 'm12': 3086951262900.783, 'm03': 2515790732405.0503, 'mu20': 51949013.333509445, 'mu11': -1528770.2144794464, 'mu02': 49053048.477705956, 'mu30': -126869196.32421875, 'mu21': 1357003372.6883507, 'mu12': 40244842.45508957, 'mu03': -1283061250.2348633, 'nu20': 0.09904885195652277, 'nu11': -0.0029148375480664165, 'nu02': 0.09352724575329684, 'nu30': -0.0015984401036801853, 'nu21': 0.017097046994694796, 'nu12': 0.0005070495597852699, 'nu03': -0.016165441393766727}\n",
      "{'m00': 66579.5, 'm10': 85028799.16666666, 'm01': 26845687.166666664, 'm20': 108943070556.91666, 'm11': 34284686431.958332, 'm02': 11177394386.916666, 'm30': 140032111521960.56, 'm21': 43927230338982.85, 'm12': 14274669053677.85, 'm03': 4791441150778.55, 'mu20': 352638250.7964325, 'mu11': 11080.150943756104, 'mu02': 352877539.38054466, 'mu30': 10334733.71875, 'mu21': -6654550.243469238, 'mu12': -10351248.535644531, 'mu03': 6653518.4755859375, 'nu20': 0.07955149759765526, 'nu11': 2.4995660544286834e-06, 'nu02': 0.07960547859711052, 'nu30': 9.035412153061818e-06, 'nu21': -5.817915176074302e-06, 'nu12': -9.049850665106275e-06, 'nu03': 5.8170131259271365e-06}\n",
      "{'m00': 90222.0, 'm10': 25262160.0, 'm01': 36043689.0, 'm20': 7714377697.0, 'm11': 10092232920.0, 'm02': 15117233610.0, 'm30': 2518970577480.0, 'm21': 3081893889951.5, 'm12': 4232825410800.0, 'm03': 6612840930940.5, 'mu20': 640972897.0, 'mu11': 0.0, 'mu02': 717779854.5, 'mu30': 0.0, 'mu21': 0.0, 'mu12': 0.0, 'mu03': 0.0, 'nu20': 0.07874350932988444, 'nu11': 0.0, 'nu02': 0.08817924273266713, 'nu30': 0.0, 'nu21': 0.0, 'nu12': 0.0, 'nu03': 0.0}\n",
      "output_shape_number_1.jpg\n",
      "output_shape_number_2.jpg\n",
      "output_shape_number_3.jpg\n",
      "output_shape_number_4.jpg\n"
     ]
    }
   ],
   "source": [
    "import cv2\n",
    "import numpy as np\n",
    "\n",
    "# Functions we'll use for sorting by position\n",
    "\n",
    "def x_cord_contour(contours):\n",
    "    #Returns the X cordinate for the contour centroid\n",
    "    if cv2.contourArea(contours) > 10:\n",
    "        M = cv2.moments(contours)\n",
    "        return (int(M['m10']/M['m00']))\n",
    "    else:\n",
    "        pass\n",
    "\n",
    "    \n",
    "def label_contour_center(image, c):\n",
    "    # Places a red circle on the centers of contours\n",
    "    M = cv2.moments(c)\n",
    "    cx = int(M['m10'] / M['m00'])\n",
    "    cy = int(M['m01'] / M['m00'])\n",
    " \n",
    "    # Draw the countour number on the image\n",
    "    cv2.circle(image,(cx,cy), 5, (0,0,255), -1)\n",
    "    return image, M\n",
    "\n",
    "\n",
    "# Load our image\n",
    "image = cv2.imread('images/bunchofshapes.jpg')\n",
    "orginal_image = image.copy()\n",
    "\n",
    "contours, _ = cv2.findContours(edged.copy(), cv2.RETR_EXTERNAL, cv2.CHAIN_APPROX_NONE)\n",
    "# Computer Center of Mass or centroids and draw them on our image\n",
    "for (i, c) in enumerate(contours):\n",
    "    orig, M = label_contour_center(image, c)\n",
    "#     print(M)\n",
    " \n",
    "cv2.imshow(\"4 - Contour Centers \", image)\n",
    "cv2.waitKey(0)\n",
    "\n",
    "# Sort by left to right using our x_cord_contour function\n",
    "contours_left_to_right = sorted(contours, key = x_cord_contour, reverse = False)\n",
    "\n",
    "\n",
    "# Labeling Contours left to right\n",
    "for (i,c)  in enumerate(contours_left_to_right):\n",
    "    cv2.drawContours(orginal_image, [c], -1, (0,0,255), 3)  \n",
    "    M = cv2.moments(c)\n",
    "    cx = int(M['m10'] / M['m00'])\n",
    "    cy = int(M['m01'] / M['m00'])\n",
    "    cv2.putText(orginal_image, str(i+1), (cx, cy), cv2.FONT_HERSHEY_SIMPLEX, 1, (0, 255, 0), 2)\n",
    "    cv2.imshow('6 - Left to Right Contour', orginal_image)\n",
    "    cv2.waitKey(0)\n",
    "    (x, y, w, h) = cv2.boundingRect(c)  \n",
    "    \n",
    "    # Let's now crop each contour and save these images\n",
    "    cropped_contour = orginal_image[y:y + h, x:x + w]\n",
    "    image_name = \"output_shape_number_\" + str(i+1) + \".jpg\"\n",
    "    print (image_name)\n",
    "    cv2.imwrite(image_name, cropped_contour)\n",
    "    \n",
    "cv2.destroyAllWindows()\n",
    "\n",
    "\n"
   ]
  },
  {
   "cell_type": "code",
   "execution_count": null,
   "metadata": {},
   "outputs": [],
   "source": []
  }
 ],
 "metadata": {
  "kernelspec": {
   "display_name": "Python 3",
   "language": "python",
   "name": "python3"
  },
  "language_info": {
   "codemirror_mode": {
    "name": "ipython",
    "version": 3
   },
   "file_extension": ".py",
   "mimetype": "text/x-python",
   "name": "python",
   "nbconvert_exporter": "python",
   "pygments_lexer": "ipython3",
   "version": "3.6.13"
  }
 },
 "nbformat": 4,
 "nbformat_minor": 1
}
